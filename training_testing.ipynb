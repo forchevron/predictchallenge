{
 "cells": [
  {
   "cell_type": "markdown",
   "metadata": {},
   "source": [
    "# Training EUR predictive algorithm\n",
    "\n",
    "This notebook will take a dataframe that holds a training dataset, with additional features (from the completions data) merged, and then build a regression algorithm to predict EUR or EUR per foot (whichever ends up being more accurate).\n",
    "\n",
    "We'll start with loading the packages and the data:"
   ]
  },
  {
   "cell_type": "code",
   "execution_count": 195,
   "metadata": {},
   "outputs": [],
   "source": [
    "import numpy as np\n",
    "from sklearn.preprocessing import LabelEncoder,OneHotEncoder,StandardScaler,RobustScaler\n",
    "from sklearn.ensemble import RandomForestRegressor\n",
    "from sklearn.metrics import mean_absolute_error,mean_squared_error,make_scorer,accuracy_score, classification_report\n",
    "import pandas as pd\n",
    "from sklearn.model_selection import GridSearchCV\n",
    "import matplotlib.pyplot as plt\n",
    "%matplotlib inline\n",
    "\n",
    "pd.set_option('display.max_columns', None)\n",
    "# load the training dataset\n",
    "base_merged_train = pd.read_csv('base_train_merged.csv')\n",
    "base_merged_train['Acid..Gals.'].fillna(0,inplace=True)\n",
    "# Drop columns that might be correlated / carrying similar information as others\n",
    "base_merged_train.drop(['Operator','County','Surface.Latitude','Surface.Longitude','Treatment.Records','Completion.Year'],axis=1,inplace=True)\n",
    "\n",
    "#load the test dataset\n",
    "base_merged_test = pd.read_csv('base_test_merged.csv')\n",
    "\n",
    "# Save the id's for predictions\n",
    "#wellid = base_merged_test.loc['WellID']\n",
    "#print(wellid)\n",
    "\n",
    "base_merged_test['Acid..Gals.'].fillna(0,inplace=True)\n",
    "# Drop columns that might be correlated / carrying similar information as others\n",
    "base_merged_test.drop(['Operator','County','Surface.Latitude','Surface.Longitude','Treatment.Records','Completion.Year'],axis=1,inplace=True)\n",
    "\n",
    "#quick check\n",
    "#base_merged_train.head()\n",
    "#base_merged_train.head()\n"
   ]
  },
  {
   "cell_type": "markdown",
   "metadata": {},
   "source": [
    "Here as we use sklearn, we need to transform categorical values to dummies using one hot encoding. Below we create a function to do that called dummy_val.\n",
    "LabelEncoder = assigning integer values 0-(k-1), where k is the number of classes\n",
    "OneHotEncoder = is more suitable for machine learning because the labels are independent to each other. \n",
    "- There is probably a better way to do this like selecting df.dtype == 'object' but I had some workable code"
   ]
  },
  {
   "cell_type": "code",
   "execution_count": 196,
   "metadata": {},
   "outputs": [],
   "source": [
    "def dummy_val(train,test,columns = ['WB.Spacing.Proxy','Deepest_Zone','Subarea','SPBY.Spacing.Proxy','Between_Zone']):\n",
    "    for column in columns:\n",
    "        train[column] = train[column].apply(lambda x: str(x))\n",
    "        test[column] = test[column].apply(lambda x: str(x))\n",
    "        good_cols = [column+'_'+i for i in train[column].unique() if i in test[column].unique()]\n",
    "        train = pd.concat((train, pd.get_dummies(train[column], prefix = column)[good_cols]), axis = 1)\n",
    "        test = pd.concat((test, pd.get_dummies(test[column], prefix = column)[good_cols]), axis = 1)\n",
    "        del train[column]\n",
    "        del test[column]\n",
    "    return train, test"
   ]
  },
  {
   "cell_type": "markdown",
   "metadata": {},
   "source": [
    "# Setting up the Random Forest Model\n",
    "## Grid\n",
    "    - A leaf is a node without any children (external node)\n",
    "    - min_samples_leaf guarantees a minimum number of samples required to be at each leaf node\n",
    "    - min_samples_split specifies the minimum number of samples required to split an internal \n",
    "    - n_estimators is the number of trees to create before creating predictions\n",
    "## RF Model\n",
    "    - Max features set to auto --> will take all features that make sense in every tree (We might want to create restrictions after initial pass)\n",
    "    - oob_score is a cross validation method\n",
    "        - tags every observation used in different trees and then finds out a maximum vote score based only on trees that did not use this particular observation to train itself\n",
    "    - random state makes the process repeatable\n",
    "## GridSearchCV\n",
    "    - uses the variables from grid to perform an exhaustive search over specified values\n",
    "    - make_scorer uses the sklearn.metrics and creates a scoring object\n",
    "    - GridSearchCV impliments fit method and predict method where the parameters of the classifier used to predict is optimized by cross validation\n",
    "    - **If I had more time I could create a GridSearchCV to help narrow the parameters for cross validation**\n",
    "   "
   ]
  },
  {
   "cell_type": "code",
   "execution_count": 197,
   "metadata": {},
   "outputs": [],
   "source": [
    "# Prep RF and the CV objects:\n",
    "\n",
    "grid = {      \"min_samples_leaf\" : [1, 5, 10],\n",
    "              \"min_samples_split\" : [2, 4, 10, 12, 16],\n",
    "              \"n_estimators\": [50, 150, 300]}\n",
    "RFmodel = RandomForestRegressor(max_features='auto', oob_score=True, random_state=1)\n",
    "gs_cv = GridSearchCV(RFmodel,scoring=make_scorer(mean_squared_error),param_grid=grid,n_jobs=-1,cv=3,verbose=1,return_train_score=True)\n",
    "Xtrain,Xtest = dummy_val(base_merged_train,base_merged_test)\n"
   ]
  },
  {
   "cell_type": "markdown",
   "metadata": {},
   "source": [
    "# Crossvalidation techniques\n",
    "\n",
    "Create instances of both spatial stratified CV and randomly picked CV.\n",
    "## Stratification by Subarea\n",
    "\n",
    "\n",
    "## Random folds\n",
    "\n",
    "\n"
   ]
  },
  {
   "cell_type": "code",
   "execution_count": 198,
   "metadata": {},
   "outputs": [],
   "source": [
    "Xtrain.dropna(inplace=True)\n",
    "Xtrain.shape\n",
    "\n",
    "Xtest.dropna(inplace=True)\n",
    "#Xtest.shape\n",
    "x_train = Xtrain.drop(['EUR_o..Mstb.'],axis=1)\n",
    "y_train = Xtrain['EUR_o..Mstb.']\n"
   ]
  },
  {
   "cell_type": "code",
   "execution_count": 199,
   "metadata": {},
   "outputs": [
    {
     "name": "stdout",
     "output_type": "stream",
     "text": [
      "Fitting 3 folds for each of 45 candidates, totalling 135 fits\n"
     ]
    },
    {
     "name": "stderr",
     "output_type": "stream",
     "text": [
      "[Parallel(n_jobs=-1)]: Done  42 tasks      | elapsed:   40.5s\n",
      "[Parallel(n_jobs=-1)]: Done 135 out of 135 | elapsed:  1.7min finished\n"
     ]
    },
    {
     "data": {
      "text/plain": [
       "GridSearchCV(cv=3, error_score='raise',\n",
       "       estimator=RandomForestRegressor(bootstrap=True, criterion='mse', max_depth=None,\n",
       "           max_features='auto', max_leaf_nodes=None,\n",
       "           min_impurity_decrease=0.0, min_impurity_split=None,\n",
       "           min_samples_leaf=1, min_samples_split=2,\n",
       "           min_weight_fraction_leaf=0.0, n_estimators=10, n_jobs=1,\n",
       "           oob_score=True, random_state=1, verbose=0, warm_start=False),\n",
       "       fit_params=None, iid=True, n_jobs=-1,\n",
       "       param_grid={'min_samples_leaf': [1, 5, 10], 'min_samples_split': [2, 4, 10, 12, 16], 'n_estimators': [50, 150, 300]},\n",
       "       pre_dispatch='2*n_jobs', refit=True, return_train_score=True,\n",
       "       scoring=make_scorer(mean_squared_error), verbose=1)"
      ]
     },
     "execution_count": 199,
     "metadata": {},
     "output_type": "execute_result"
    }
   ],
   "source": [
    "gs_cv.fit(Xtrain.drop(['EUR_o..Mstb.'],axis=1),Xtrain['EUR_o..Mstb.'])"
   ]
  },
  {
   "cell_type": "code",
   "execution_count": 200,
   "metadata": {},
   "outputs": [
    {
     "data": {
      "text/plain": [
       "{'mean_fit_time': array([1.39284976, 4.16490364, 8.32862465, 1.22421837, 3.69015018,\n",
       "        7.34349887, 1.05714409, 3.2119743 , 6.38035011, 1.03276976,\n",
       "        3.14883089, 6.29641271, 0.96688493, 2.95964495, 5.88600628,\n",
       "        0.84548227, 2.58464575, 5.1696705 , 0.84054017, 2.58374715,\n",
       "        5.10218143, 0.85151982, 2.55333575, 5.09184782, 0.83956742,\n",
       "        2.53204576, 5.0197134 , 0.79617182, 2.4542826 , 4.89984902,\n",
       "        0.68702785, 2.08675377, 4.18807316, 0.6941638 , 2.07701969,\n",
       "        4.19943412, 0.72802862, 2.06653635, 4.18159175, 0.70584059,\n",
       "        2.06292367, 4.2055645 , 0.71302358, 2.06576864, 3.65336108]),\n",
       " 'std_fit_time': array([0.11020415, 0.35141285, 0.63568152, 0.10768931, 0.32577972,\n",
       "        0.62571805, 0.10426236, 0.29328601, 0.57590892, 0.10596239,\n",
       "        0.32655871, 0.51758197, 0.09018182, 0.28482869, 0.60537865,\n",
       "        0.05763782, 0.16554778, 0.34940619, 0.05439   , 0.15611767,\n",
       "        0.33629319, 0.05136808, 0.17244937, 0.33417559, 0.05331252,\n",
       "        0.1329009 , 0.38418035, 0.04968755, 0.15650468, 0.33893948,\n",
       "        0.03639832, 0.13160334, 0.21420274, 0.02984356, 0.12128347,\n",
       "        0.21328053, 0.00741848, 0.10611939, 0.22943425, 0.05339822,\n",
       "        0.10787905, 0.23094581, 0.04021665, 0.10846012, 0.41284069]),\n",
       " 'mean_score_time': array([0.01951432, 0.04630216, 0.07056228, 0.01262546, 0.03389796,\n",
       "        0.06878821, 0.01179647, 0.03263934, 0.06252925, 0.01153318,\n",
       "        0.0322698 , 0.0677127 , 0.01160471, 0.03080599, 0.06001401,\n",
       "        0.01110911, 0.03174663, 0.06105399, 0.01116602, 0.03232209,\n",
       "        0.05962308, 0.01157276, 0.030502  , 0.05925218, 0.01236709,\n",
       "        0.03045328, 0.05896076, 0.0111409 , 0.03148786, 0.05818733,\n",
       "        0.01061757, 0.03045003, 0.05730557, 0.01108154, 0.02974955,\n",
       "        0.05607915, 0.01074624, 0.03009637, 0.05604259, 0.01063625,\n",
       "        0.02946719, 0.05661011, 0.01069554, 0.02895236, 0.0376362 ]),\n",
       " 'std_score_time': array([0.00447632, 0.01628879, 0.00339061, 0.00046977, 0.00155128,\n",
       "        0.00350435, 0.00069898, 0.00250449, 0.00255784, 0.00037819,\n",
       "        0.00123104, 0.00834591, 0.0002867 , 0.00107574, 0.00255499,\n",
       "        0.00026017, 0.00017562, 0.00424613, 0.00028741, 0.00086459,\n",
       "        0.00133855, 0.00047955, 0.00097363, 0.00197433, 0.0012032 ,\n",
       "        0.0011017 , 0.00213843, 0.00041787, 0.00075094, 0.00145586,\n",
       "        0.00019083, 0.00064768, 0.00342599, 0.00040153, 0.00170548,\n",
       "        0.0016622 , 0.0003584 , 0.00033578, 0.00183648, 0.00015766,\n",
       "        0.00044044, 0.00160111, 0.00017559, 0.00097439, 0.00332401]),\n",
       " 'param_min_samples_leaf': masked_array(data=[1, 1, 1, 1, 1, 1, 1, 1, 1, 1, 1, 1, 1, 1, 1, 5, 5, 5,\n",
       "                    5, 5, 5, 5, 5, 5, 5, 5, 5, 5, 5, 5, 10, 10, 10, 10, 10,\n",
       "                    10, 10, 10, 10, 10, 10, 10, 10, 10, 10],\n",
       "              mask=[False, False, False, False, False, False, False, False,\n",
       "                    False, False, False, False, False, False, False, False,\n",
       "                    False, False, False, False, False, False, False, False,\n",
       "                    False, False, False, False, False, False, False, False,\n",
       "                    False, False, False, False, False, False, False, False,\n",
       "                    False, False, False, False, False],\n",
       "        fill_value='?',\n",
       "             dtype=object),\n",
       " 'param_min_samples_split': masked_array(data=[2, 2, 2, 4, 4, 4, 10, 10, 10, 12, 12, 12, 16, 16, 16,\n",
       "                    2, 2, 2, 4, 4, 4, 10, 10, 10, 12, 12, 12, 16, 16, 16,\n",
       "                    2, 2, 2, 4, 4, 4, 10, 10, 10, 12, 12, 12, 16, 16, 16],\n",
       "              mask=[False, False, False, False, False, False, False, False,\n",
       "                    False, False, False, False, False, False, False, False,\n",
       "                    False, False, False, False, False, False, False, False,\n",
       "                    False, False, False, False, False, False, False, False,\n",
       "                    False, False, False, False, False, False, False, False,\n",
       "                    False, False, False, False, False],\n",
       "        fill_value='?',\n",
       "             dtype=object),\n",
       " 'param_n_estimators': masked_array(data=[50, 150, 300, 50, 150, 300, 50, 150, 300, 50, 150, 300,\n",
       "                    50, 150, 300, 50, 150, 300, 50, 150, 300, 50, 150, 300,\n",
       "                    50, 150, 300, 50, 150, 300, 50, 150, 300, 50, 150, 300,\n",
       "                    50, 150, 300, 50, 150, 300, 50, 150, 300],\n",
       "              mask=[False, False, False, False, False, False, False, False,\n",
       "                    False, False, False, False, False, False, False, False,\n",
       "                    False, False, False, False, False, False, False, False,\n",
       "                    False, False, False, False, False, False, False, False,\n",
       "                    False, False, False, False, False, False, False, False,\n",
       "                    False, False, False, False, False],\n",
       "        fill_value='?',\n",
       "             dtype=object),\n",
       " 'params': [{'min_samples_leaf': 1,\n",
       "   'min_samples_split': 2,\n",
       "   'n_estimators': 50},\n",
       "  {'min_samples_leaf': 1, 'min_samples_split': 2, 'n_estimators': 150},\n",
       "  {'min_samples_leaf': 1, 'min_samples_split': 2, 'n_estimators': 300},\n",
       "  {'min_samples_leaf': 1, 'min_samples_split': 4, 'n_estimators': 50},\n",
       "  {'min_samples_leaf': 1, 'min_samples_split': 4, 'n_estimators': 150},\n",
       "  {'min_samples_leaf': 1, 'min_samples_split': 4, 'n_estimators': 300},\n",
       "  {'min_samples_leaf': 1, 'min_samples_split': 10, 'n_estimators': 50},\n",
       "  {'min_samples_leaf': 1, 'min_samples_split': 10, 'n_estimators': 150},\n",
       "  {'min_samples_leaf': 1, 'min_samples_split': 10, 'n_estimators': 300},\n",
       "  {'min_samples_leaf': 1, 'min_samples_split': 12, 'n_estimators': 50},\n",
       "  {'min_samples_leaf': 1, 'min_samples_split': 12, 'n_estimators': 150},\n",
       "  {'min_samples_leaf': 1, 'min_samples_split': 12, 'n_estimators': 300},\n",
       "  {'min_samples_leaf': 1, 'min_samples_split': 16, 'n_estimators': 50},\n",
       "  {'min_samples_leaf': 1, 'min_samples_split': 16, 'n_estimators': 150},\n",
       "  {'min_samples_leaf': 1, 'min_samples_split': 16, 'n_estimators': 300},\n",
       "  {'min_samples_leaf': 5, 'min_samples_split': 2, 'n_estimators': 50},\n",
       "  {'min_samples_leaf': 5, 'min_samples_split': 2, 'n_estimators': 150},\n",
       "  {'min_samples_leaf': 5, 'min_samples_split': 2, 'n_estimators': 300},\n",
       "  {'min_samples_leaf': 5, 'min_samples_split': 4, 'n_estimators': 50},\n",
       "  {'min_samples_leaf': 5, 'min_samples_split': 4, 'n_estimators': 150},\n",
       "  {'min_samples_leaf': 5, 'min_samples_split': 4, 'n_estimators': 300},\n",
       "  {'min_samples_leaf': 5, 'min_samples_split': 10, 'n_estimators': 50},\n",
       "  {'min_samples_leaf': 5, 'min_samples_split': 10, 'n_estimators': 150},\n",
       "  {'min_samples_leaf': 5, 'min_samples_split': 10, 'n_estimators': 300},\n",
       "  {'min_samples_leaf': 5, 'min_samples_split': 12, 'n_estimators': 50},\n",
       "  {'min_samples_leaf': 5, 'min_samples_split': 12, 'n_estimators': 150},\n",
       "  {'min_samples_leaf': 5, 'min_samples_split': 12, 'n_estimators': 300},\n",
       "  {'min_samples_leaf': 5, 'min_samples_split': 16, 'n_estimators': 50},\n",
       "  {'min_samples_leaf': 5, 'min_samples_split': 16, 'n_estimators': 150},\n",
       "  {'min_samples_leaf': 5, 'min_samples_split': 16, 'n_estimators': 300},\n",
       "  {'min_samples_leaf': 10, 'min_samples_split': 2, 'n_estimators': 50},\n",
       "  {'min_samples_leaf': 10, 'min_samples_split': 2, 'n_estimators': 150},\n",
       "  {'min_samples_leaf': 10, 'min_samples_split': 2, 'n_estimators': 300},\n",
       "  {'min_samples_leaf': 10, 'min_samples_split': 4, 'n_estimators': 50},\n",
       "  {'min_samples_leaf': 10, 'min_samples_split': 4, 'n_estimators': 150},\n",
       "  {'min_samples_leaf': 10, 'min_samples_split': 4, 'n_estimators': 300},\n",
       "  {'min_samples_leaf': 10, 'min_samples_split': 10, 'n_estimators': 50},\n",
       "  {'min_samples_leaf': 10, 'min_samples_split': 10, 'n_estimators': 150},\n",
       "  {'min_samples_leaf': 10, 'min_samples_split': 10, 'n_estimators': 300},\n",
       "  {'min_samples_leaf': 10, 'min_samples_split': 12, 'n_estimators': 50},\n",
       "  {'min_samples_leaf': 10, 'min_samples_split': 12, 'n_estimators': 150},\n",
       "  {'min_samples_leaf': 10, 'min_samples_split': 12, 'n_estimators': 300},\n",
       "  {'min_samples_leaf': 10, 'min_samples_split': 16, 'n_estimators': 50},\n",
       "  {'min_samples_leaf': 10, 'min_samples_split': 16, 'n_estimators': 150},\n",
       "  {'min_samples_leaf': 10, 'min_samples_split': 16, 'n_estimators': 300}],\n",
       " 'split0_test_score': array([281.55531498, 270.34077714, 267.89022781, 283.89177508,\n",
       "        274.56419417, 272.77773773, 283.83646103, 273.58299853,\n",
       "        272.77047256, 278.93330608, 271.94792962, 271.3139326 ,\n",
       "        282.14224599, 272.54728765, 272.34653548, 238.38355596,\n",
       "        236.03165163, 237.65595213, 238.38355596, 236.03165163,\n",
       "        237.65595213, 238.38355596, 236.03165163, 237.65595213,\n",
       "        238.52858523, 236.66319075, 238.43706748, 242.9195927 ,\n",
       "        238.85104256, 240.347559  , 239.51335015, 237.18415462,\n",
       "        236.88263874, 239.51335015, 237.18415462, 236.88263874,\n",
       "        239.51335015, 237.18415462, 236.88263874, 239.51335015,\n",
       "        237.18415462, 236.88263874, 239.51335015, 237.18415462,\n",
       "        236.88263874]),\n",
       " 'split1_test_score': array([395.19840819, 379.88627935, 376.43584844, 398.99360202,\n",
       "        381.24004043, 380.31068511, 399.03431874, 382.94030981,\n",
       "        383.10185176, 397.3292106 , 382.78227292, 381.6469865 ,\n",
       "        393.86029539, 381.67030343, 381.68959687, 356.72208667,\n",
       "        356.04566642, 357.91864539, 356.72208667, 356.04566642,\n",
       "        357.91864539, 356.72208667, 356.04566642, 357.91864539,\n",
       "        356.47508801, 355.30285803, 358.2639321 , 357.98700636,\n",
       "        356.39646225, 358.94549969, 360.19333867, 362.48190263,\n",
       "        360.62543025, 360.19333867, 362.48190263, 360.62543025,\n",
       "        360.19333867, 362.48190263, 360.62543025, 360.19333867,\n",
       "        362.48190263, 360.62543025, 360.19333867, 362.48190263,\n",
       "        360.62543025]),\n",
       " 'split2_test_score': array([1699.77351335, 1678.94980572, 1660.52447833, 1678.95746241,\n",
       "        1670.78908644, 1663.28608266, 1690.30250373, 1675.19450185,\n",
       "        1665.50441026, 1687.51684249, 1675.94214671, 1667.36567118,\n",
       "        1691.56888181, 1667.45579826, 1661.81172607, 1711.78167856,\n",
       "        1704.25665604, 1691.6982889 , 1711.78167856, 1704.25665604,\n",
       "        1691.6982889 , 1711.78167856, 1704.25665604, 1691.6982889 ,\n",
       "        1713.68859662, 1703.5309008 , 1692.48778755, 1707.2890587 ,\n",
       "        1696.57285464, 1690.05175761, 1732.22877861, 1700.56942663,\n",
       "        1700.81861493, 1732.22877861, 1700.56942663, 1700.81861493,\n",
       "        1732.22877861, 1700.56942663, 1700.81861493, 1732.22877861,\n",
       "        1700.56942663, 1700.81861493, 1732.22877861, 1700.56942663,\n",
       "        1700.81861493]),\n",
       " 'mean_test_score': array([792.1757455 , 776.39228741, 768.28351819, 787.2809465 ,\n",
       "        775.53110701, 772.12483517, 791.05776117, 777.23927007,\n",
       "        773.79224486, 787.92645306, 776.89078308, 773.44219676,\n",
       "        789.1904744 , 773.89112978, 771.94928614, 768.9624404 ,\n",
       "        765.44465803, 762.42429547, 768.9624404 , 765.44465803,\n",
       "        762.42429547, 768.9624404 , 765.44465803, 762.42429547,\n",
       "        769.56408995, 765.16564986, 763.06292904, 769.39855259,\n",
       "        763.94011982, 763.11493877, 777.31182248, 766.74516129,\n",
       "        766.10889464, 777.31182248, 766.74516129, 766.10889464,\n",
       "        777.31182248, 766.74516129, 766.10889464, 777.31182248,\n",
       "        766.74516129, 766.10889464, 777.31182248, 766.74516129,\n",
       "        766.10889464]),\n",
       " 'std_test_score': array([643.4433253 , 639.76954688, 632.46395742, 632.25910533,\n",
       "        634.53924037, 631.67349713, 637.5988639 , 636.51784688,\n",
       "        632.14249066, 637.9402005 , 637.33354885, 633.70220624,\n",
       "        639.70582993, 633.41419872, 630.80918814, 668.42206669,\n",
       "        665.64596027, 658.92761109, 668.42206669, 665.64596027,\n",
       "        658.92761109, 668.42206669, 665.64596027, 658.92761109,\n",
       "        669.3310877 , 665.28983698, 659.02076096, 664.85039847,\n",
       "        661.21458694, 657.22916728, 677.02324418, 662.29182909,\n",
       "        662.86739021, 677.02324418, 662.29182909, 662.86739021,\n",
       "        677.02324418, 662.29182909, 662.86739021, 677.02324418,\n",
       "        662.29182909, 662.86739021, 677.02324418, 662.29182909,\n",
       "        662.86739021]),\n",
       " 'rank_test_score': array([ 1, 13, 25,  5, 14, 18,  2, 11, 16,  4, 12, 17,  3, 15, 19, 22, 36,\n",
       "        43, 22, 36, 43, 22, 36, 43, 20, 39, 42, 21, 40, 41,  6, 26, 31,  6,\n",
       "        26, 31,  6, 26, 31,  6, 26, 31,  6, 26, 31], dtype=int32),\n",
       " 'split0_train_score': array([150.33671701, 141.52232406, 135.18437946, 184.76964699,\n",
       "        184.41572454, 177.16592289, 305.87919752, 294.70323979,\n",
       "        289.57392468, 332.82111079, 321.31402817, 315.94291133,\n",
       "        375.57214608, 365.94948444, 362.11366918, 443.60372339,\n",
       "        436.31423552, 433.24968218, 443.60372339, 436.31423552,\n",
       "        433.24968218, 443.60372339, 436.31423552, 433.24968218,\n",
       "        468.4334043 , 460.6983852 , 458.00544177, 509.21660745,\n",
       "        502.82029897, 499.70650135, 606.7006529 , 601.3600695 ,\n",
       "        597.42069528, 606.7006529 , 601.3600695 , 597.42069528,\n",
       "        606.7006529 , 601.3600695 , 597.42069528, 606.7006529 ,\n",
       "        601.3600695 , 597.42069528, 606.7006529 , 601.3600695 ,\n",
       "        597.42069528]),\n",
       " 'split1_train_score': array([142.08726973, 135.07406485, 131.62405671, 188.77307397,\n",
       "        180.69772135, 177.66570722, 297.61651039, 291.62479376,\n",
       "        288.52549322, 319.72912345, 316.28928787, 314.41999637,\n",
       "        365.88378671, 363.97377005, 363.23423909, 428.93197067,\n",
       "        423.15649001, 424.34744562, 428.93197067, 423.15649001,\n",
       "        424.34744562, 428.93197067, 423.15649001, 424.34744562,\n",
       "        456.95890988, 448.47483053, 450.08988379, 499.08027876,\n",
       "        492.25799062, 492.20970845, 588.72289291, 582.49383432,\n",
       "        582.31023591, 588.72289291, 582.49383432, 582.31023591,\n",
       "        588.72289291, 582.49383432, 582.31023591, 588.72289291,\n",
       "        582.49383432, 582.31023591, 588.72289291, 582.49383432,\n",
       "        582.31023591]),\n",
       " 'split2_train_score': array([ 41.59332423,  37.73684355,  36.70371628,  48.83200607,\n",
       "         46.02700427,  45.18927245,  86.00213849,  82.12602381,\n",
       "         80.70368416,  95.93872001,  93.1910774 ,  91.52827453,\n",
       "        114.25058383, 111.93858834, 111.12458084, 124.64871764,\n",
       "        122.19445061, 120.98126071, 124.64871764, 122.19445061,\n",
       "        120.98126071, 124.64871764, 122.19445061, 120.98126071,\n",
       "        131.23793682, 129.57367305, 128.75926407, 143.78800811,\n",
       "        143.23096088, 142.67523873, 178.83385768, 176.52774804,\n",
       "        176.02834885, 178.83385768, 176.52774804, 176.02834885,\n",
       "        178.83385768, 176.52774804, 176.02834885, 178.83385768,\n",
       "        176.52774804, 176.02834885, 178.83385768, 176.52774804,\n",
       "        176.02834885]),\n",
       " 'mean_train_score': array([111.33910366, 104.77774416, 101.17071748, 140.79157568,\n",
       "        137.04681672, 133.34030085, 229.83261546, 222.81801912,\n",
       "        219.60103402, 249.49631808, 243.59813115, 240.63039408,\n",
       "        285.23550554, 280.62061428, 278.82416304, 332.3948039 ,\n",
       "        327.22172538, 326.19279617, 332.3948039 , 327.22172538,\n",
       "        326.19279617, 332.3948039 , 327.22172538, 326.19279617,\n",
       "        352.21008367, 346.24896292, 345.61819654, 384.02829811,\n",
       "        379.43641682, 378.19714951, 458.08580116, 453.46055062,\n",
       "        451.91976001, 458.08580116, 453.46055062, 451.91976001,\n",
       "        458.08580116, 453.46055062, 451.91976001, 458.08580116,\n",
       "        453.46055062, 451.91976001, 458.08580116, 453.46055062,\n",
       "        451.91976001]),\n",
       " 'std_train_score': array([ 49.43257129,  47.47811269,  45.60822044,  65.04577203,\n",
       "         64.37862264,  62.33252389, 101.75943062,  99.49220192,\n",
       "         98.21619062, 108.71308409, 106.37362883, 105.43295297,\n",
       "        120.96927617, 119.27893155, 118.5823942 , 147.02072949,\n",
       "        145.07565639, 145.15197362, 147.02072949, 145.07565639,\n",
       "        145.15197362, 147.02072949, 145.07565639, 145.15197362,\n",
       "        156.32110812, 153.29381321, 153.37646812, 169.92593287,\n",
       "        167.07813273, 166.56726033, 197.59729404, 195.97247522,\n",
       "        195.18219618, 197.59729404, 195.97247522, 195.18219618,\n",
       "        197.59729404, 195.97247522, 195.18219618, 197.59729404,\n",
       "        195.97247522, 195.18219618, 197.59729404, 195.97247522,\n",
       "        195.18219618])}"
      ]
     },
     "execution_count": 200,
     "metadata": {},
     "output_type": "execute_result"
    }
   ],
   "source": [
    "# Given more time it would be better to plot these fits\n",
    "results = gs_cv.cv_results_\n",
    "gs_cv.cv_results_"
   ]
  },
  {
   "cell_type": "code",
   "execution_count": 201,
   "metadata": {},
   "outputs": [
    {
     "name": "stdout",
     "output_type": "stream",
     "text": [
      "{'min_samples_leaf': 1, 'min_samples_split': 2, 'n_estimators': 50}\n"
     ]
    }
   ],
   "source": [
    "#importance = list(RFmodel.feature_importances_)\n",
    "best_grid = gs_cv.best_params_\n",
    "print(gs_cv.best_params_)"
   ]
  },
  {
   "cell_type": "code",
   "execution_count": 202,
   "metadata": {},
   "outputs": [
    {
     "name": "stdout",
     "output_type": "stream",
     "text": [
      "RandomForestRegressor(bootstrap=True, criterion='mse', max_depth=None,\n",
      "           max_features='auto', max_leaf_nodes=None,\n",
      "           min_impurity_decrease=0.0, min_impurity_split=None,\n",
      "           min_samples_leaf=1, min_samples_split=2,\n",
      "           min_weight_fraction_leaf=0.0, n_estimators=50, n_jobs=1,\n",
      "           oob_score=True, random_state=1, verbose=0, warm_start=False)\n"
     ]
    }
   ],
   "source": [
    "best_RFmodel = gs_cv.best_estimator_\n",
    "print(gs_cv.best_estimator_)\n",
    "#grid_accuracy = evaluate(best_grid, test_features, test_labels)"
   ]
  },
  {
   "cell_type": "code",
   "execution_count": 203,
   "metadata": {},
   "outputs": [],
   "source": [
    "x_test = Xtest\n",
    "y_pred = best_RFmodel.predict(x_train)"
   ]
  },
  {
   "cell_type": "code",
   "execution_count": 204,
   "metadata": {},
   "outputs": [
    {
     "data": {
      "text/plain": [
       "0.2606358953916488"
      ]
     },
     "execution_count": 204,
     "metadata": {},
     "output_type": "execute_result"
    }
   ],
   "source": [
    "# Check the RMSE\n",
    "np.sqrt(np.mean((y_pred - y_train)**2)*(1/len(y_pred)))"
   ]
  },
  {
   "cell_type": "code",
   "execution_count": 205,
   "metadata": {},
   "outputs": [
    {
     "data": {
      "text/plain": [
       "0.702045314664236"
      ]
     },
     "execution_count": 205,
     "metadata": {},
     "output_type": "execute_result"
    }
   ],
   "source": [
    "# Estimate performance on unseen data\n",
    "np.sqrt(np.mean((best_RFmodel.oob_prediction_ - y_train)**2)*(1/len(y_pred)))"
   ]
  },
  {
   "cell_type": "code",
   "execution_count": 206,
   "metadata": {},
   "outputs": [
    {
     "data": {
      "image/png": "[encoded data removed]",
      "text/plain": [
       "<Figure size 432x288 with 1 Axes>"
      ]
     },
     "metadata": {},
     "output_type": "display_data"
    }
   ],
   "source": [
    "# Actual vs expected\n",
    "fig, ax = plt.subplots()\n",
    "plt.scatter(best_RFmodel.oob_prediction_, y_train)\n",
    "x = np.linspace(*ax.get_xlim())\n",
    "ax.plot(x, x, color = 'black')\n",
    "plt.title('actual vs expected')\n",
    "plt.show()"
   ]
  },
  {
   "cell_type": "code",
   "execution_count": 207,
   "metadata": {},
   "outputs": [
    {
     "data": {
      "text/plain": [
       "0.637523649012948"
      ]
     },
     "execution_count": 207,
     "metadata": {},
     "output_type": "execute_result"
    }
   ],
   "source": [
    "from sklearn.linear_model import LinearRegression\n",
    "lreg = LinearRegression()\n",
    "lreg.fit(x_train,y_train)\n",
    "lpred = lreg.predict(x_train)\n",
    "np.sqrt(np.mean((lpred - y_train)**2)*(1/len(y_pred)))"
   ]
  },
  {
   "cell_type": "markdown",
   "metadata": {},
   "source": [
    "# Finally create the predictions"
   ]
  },
  {
   "cell_type": "code",
   "execution_count": 208,
   "metadata": {},
   "outputs": [],
   "source": [
    "y_sub = best_RFmodel.predict(x_test)"
   ]
  },
  {
   "cell_type": "code",
   "execution_count": 225,
   "metadata": {},
   "outputs": [
    {
     "name": "stdout",
     "output_type": "stream",
     "text": [
      "[42.32693395 37.27769814 39.10633556 ... 78.51163754 77.71627193\n",
      " 83.73027121]\n"
     ]
    }
   ],
   "source": [
    "print(y_sub)"
   ]
  },
  {
   "cell_type": "code",
   "execution_count": 222,
   "metadata": {},
   "outputs": [],
   "source": [
    "wid = Xtest.WellID"
   ]
  },
  {
   "cell_type": "code",
   "execution_count": 228,
   "metadata": {},
   "outputs": [],
   "source": [
    "output = pd.DataFrame({'WellID' : wid, 'EUR_o..Mstb' : y_sub})\n",
    "output.to_csv('RandomForest_benchmarkLM.csv', index=False)"
   ]
  },
  {
   "cell_type": "markdown",
   "metadata": {},
   "source": [
    "# Overview and Recommendations \n",
    "\n",
    "## Overview\n",
    "\n",
    "### EDA\n",
    "- Initial recon of the data\n",
    "- Create plots to gain a better understanding\n",
    "- Generate an overview of statistics \n",
    "- Figure out how to normalize and calibrate the data\n",
    "\n",
    "### Modeling\n",
    "- More data prep like encoding categorical variables, removing NaN, dropping useless vars\n",
    "- Create some general models to obtain a benchmark\n",
    "- Once you have say linear regression working you could use regularized regression (Ridge/Lasso) to obtain a more general model\n",
    "- See if you need to attempt a more complex model like SVM, kNN, RF, etc. \n",
    "- Model selection with GridSearchCV and create plots of model stats (classification report)\n",
    "- Test model against benchmark\n",
    "\n",
    "## Recommendations\n",
    "- Quantile regression forests .. this is useful when there are a number of outliers which can influence the conditional mean. (See skgarden)\n",
    "- Keras is a deel learning framework that has an API designed for humans. Easy to learn and easy to use. Easy implimentation and GPU/distributed training support\n",
    "- Use MVA to relate well performance to a seismic inversion based on petrophysical relationships that can be calibrated with core data. \n",
    "- Azimuthal data?\n",
    "\n"
   ]
  },
  {
   "cell_type": "code",
   "execution_count": null,
   "metadata": {},
   "outputs": [],
   "source": []
  }
 ],
 "metadata": {
  "kernelspec": {
   "display_name": "Python 3",
   "language": "python",
   "name": "python3"
  },
  "language_info": {
   "codemirror_mode": {
    "name": "ipython",
    "version": 3
   },
   "file_extension": ".py",
   "mimetype": "text/x-python",
   "name": "python",
   "nbconvert_exporter": "python",
   "pygments_lexer": "ipython3",
   "version": "3.6.5"
  }
 },
 "nbformat": 4,
 "nbformat_minor": 2
}
